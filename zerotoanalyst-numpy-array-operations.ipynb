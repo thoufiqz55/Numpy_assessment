{
 "cells": [
  {
   "cell_type": "markdown",
   "id": "d00b716f",
   "metadata": {},
   "source": [
    "# Numpy Operations\n",
    "\n",
    "NumPy is the fundamental package for scientific computing in Python. It is a Python library that provides a multidimensional array object, various derived objects (such as masked arrays and matrices), and an assortment of routines for fast operations on arrays, including mathematical, logical, shape manipulation, sorting, selecting, I/O, discrete Fourier transforms, basic linear algebra, basic statistical operations, random simulation and much more.\n",
    "\n",
    "- Numpy Array Reshaping\n",
    "- Numpy Array Sorting\n",
    "- Numpy Array Splitting\n",
    "- Numpy Array appending\n",
    "- Numpy Products\n",
    "\n",
    "The recommended way to run this notebook is to click the \"Run\" button at the top of this page, and select \"Run on Binder\". This will run the notebook on mybinder.org, a free online service for running Jupyter notebooks."
   ]
  },
  {
   "cell_type": "markdown",
   "id": "c64988ab",
   "metadata": {},
   "source": [
    "Let's begin by importing Numpy and listing out the functions covered in this notebook."
   ]
  },
  {
   "cell_type": "code",
   "execution_count": 1,
   "id": "2d5e19cc",
   "metadata": {},
   "outputs": [],
   "source": [
    "import numpy as np"
   ]
  },
  {
   "cell_type": "markdown",
   "id": "6c415b2a",
   "metadata": {},
   "source": [
    "## Function 1 - Numpy Array Reshaping(np.reshape)\n",
    "\n",
    "Reshaping arrays:\n",
    " - Reshaping means changing the shape of an array.\n",
    " - The shape of an array is the number of elements in each dimension.\n",
    " - By reshaping we can add or remove dimensions or change number of elements in each dimension.\n"
   ]
  },
  {
   "cell_type": "code",
   "execution_count": 2,
   "id": "1d461af5",
   "metadata": {},
   "outputs": [
    {
     "name": "stdout",
     "output_type": "stream",
     "text": [
      "[0 1 2 3 4 5 6 7] \n",
      "\n",
      "[[0 1 2 3]\n",
      " [4 5 6 7]]\n"
     ]
    }
   ],
   "source": [
    "# Example 1 working\n",
    "\n",
    "ar1 = np.arange(8)\n",
    "print(ar1,'\\n')\n",
    "ar2 = np.arange(8).reshape(2, 4)\n",
    "print(ar2)"
   ]
  },
  {
   "cell_type": "markdown",
   "id": "e3914c4e",
   "metadata": {},
   "source": [
    "In this example we have created 1-dimensional array and stored in a variable called `ar1`, and by using `.reshape()` function we are changing it to 2-dimensional array and created 2*4 matrix."
   ]
  },
  {
   "cell_type": "code",
   "execution_count": 3,
   "id": "842b08a7",
   "metadata": {},
   "outputs": [
    {
     "name": "stdout",
     "output_type": "stream",
     "text": [
      "[0 1 2 3 4 5 6 7] \n",
      "\n",
      "[[[0 1]\n",
      "  [2 3]]\n",
      "\n",
      " [[4 5]\n",
      "  [6 7]]]\n"
     ]
    }
   ],
   "source": [
    "# Example 2 working\n",
    "\n",
    "ar3 = np.arange(8)\n",
    "print(ar3,'\\n')\n",
    "ar4 = np.arange(8).reshape(2, 2, 2)\n",
    "print(ar4)"
   ]
  },
  {
   "cell_type": "markdown",
   "id": "0d3fb7e4",
   "metadata": {},
   "source": [
    "In this example we have created 1-dimensional array and stored in a variable called ar1, and by using `.reshape()` function we are changing it to 2-dimensional array ."
   ]
  },
  {
   "cell_type": "code",
   "execution_count": 21,
   "id": "b9ed4fa9",
   "metadata": {},
   "outputs": [
    {
     "name": "stdout",
     "output_type": "stream",
     "text": [
      "[ 1  2  3  4  5  6  7  8  9 10 11 12] \n",
      "\n"
     ]
    },
    {
     "ename": "ValueError",
     "evalue": "cannot reshape array of size 12 into shape (3,3)",
     "output_type": "error",
     "traceback": [
      "\u001b[0;31m---------------------------------------------------------------------------\u001b[0m",
      "\u001b[0;31mValueError\u001b[0m                                Traceback (most recent call last)",
      "\u001b[0;32m/tmp/ipykernel_38/146412602.py\u001b[0m in \u001b[0;36m<module>\u001b[0;34m\u001b[0m\n\u001b[1;32m      3\u001b[0m \u001b[0mar5\u001b[0m \u001b[0;34m=\u001b[0m \u001b[0mnp\u001b[0m\u001b[0;34m.\u001b[0m\u001b[0marray\u001b[0m\u001b[0;34m(\u001b[0m\u001b[0;34m[\u001b[0m\u001b[0;36m1\u001b[0m\u001b[0;34m,\u001b[0m \u001b[0;36m2\u001b[0m\u001b[0;34m,\u001b[0m \u001b[0;36m3\u001b[0m\u001b[0;34m,\u001b[0m \u001b[0;36m4\u001b[0m\u001b[0;34m,\u001b[0m \u001b[0;36m5\u001b[0m\u001b[0;34m,\u001b[0m \u001b[0;36m6\u001b[0m\u001b[0;34m,\u001b[0m \u001b[0;36m7\u001b[0m\u001b[0;34m,\u001b[0m \u001b[0;36m8\u001b[0m\u001b[0;34m,\u001b[0m \u001b[0;36m9\u001b[0m\u001b[0;34m,\u001b[0m \u001b[0;36m10\u001b[0m\u001b[0;34m,\u001b[0m \u001b[0;36m11\u001b[0m\u001b[0;34m,\u001b[0m \u001b[0;36m12\u001b[0m\u001b[0;34m]\u001b[0m\u001b[0;34m)\u001b[0m\u001b[0;34m\u001b[0m\u001b[0;34m\u001b[0m\u001b[0m\n\u001b[1;32m      4\u001b[0m \u001b[0mprint\u001b[0m\u001b[0;34m(\u001b[0m\u001b[0mar5\u001b[0m\u001b[0;34m,\u001b[0m\u001b[0;34m'\\n'\u001b[0m\u001b[0;34m)\u001b[0m\u001b[0;34m\u001b[0m\u001b[0;34m\u001b[0m\u001b[0m\n\u001b[0;32m----> 5\u001b[0;31m \u001b[0mar6\u001b[0m \u001b[0;34m=\u001b[0m \u001b[0mar5\u001b[0m\u001b[0;34m.\u001b[0m\u001b[0mreshape\u001b[0m\u001b[0;34m(\u001b[0m\u001b[0;36m3\u001b[0m\u001b[0;34m,\u001b[0m \u001b[0;36m3\u001b[0m\u001b[0;34m)\u001b[0m\u001b[0;34m\u001b[0m\u001b[0;34m\u001b[0m\u001b[0m\n\u001b[0m\u001b[1;32m      6\u001b[0m \u001b[0mprint\u001b[0m\u001b[0;34m(\u001b[0m\u001b[0mar6\u001b[0m\u001b[0;34m)\u001b[0m\u001b[0;34m\u001b[0m\u001b[0;34m\u001b[0m\u001b[0m\n",
      "\u001b[0;31mValueError\u001b[0m: cannot reshape array of size 12 into shape (3,3)"
     ]
    }
   ],
   "source": [
    "# Example 3 breaking\n",
    "\n",
    "ar5 = np.array([1, 2, 3, 4, 5, 6, 7, 8, 9, 10, 11, 12])\n",
    "print(ar5,'\\n')\n",
    "ar6 = ar5.reshape(3, 3)\n",
    "print(ar6)"
   ]
  },
  {
   "cell_type": "markdown",
   "id": "c8170009",
   "metadata": {},
   "source": [
    "In this example we are creating we creating one dimensional array and we trying to reshape the with 3 * 3 matrix ,As you can see it cannot change its shape if you want to change the shape you can try with 4*3 matrix."
   ]
  },
  {
   "cell_type": "markdown",
   "id": "e0949406",
   "metadata": {},
   "source": [
    "## Function 2 - Numpy Array Sorting(np.sort())\n",
    "\n",
    "Sorting Arrays:\n",
    " - Sorting means putting elements in an ordered sequence.\n",
    " - Ordered sequence is any sequence that has an order corresponding to elements, like numeric or alphabetical, ascending or descending.\n",
    " - The `NumPy ndarray` object has a function called sort(), that will sort a specified array."
   ]
  },
  {
   "cell_type": "code",
   "execution_count": 22,
   "id": "f3ba614b",
   "metadata": {},
   "outputs": [
    {
     "name": "stdout",
     "output_type": "stream",
     "text": [
      "[0 1 2 3]\n"
     ]
    }
   ],
   "source": [
    "# Example 1 - working\n",
    "\n",
    "arr = np.array([3, 2, 0, 1])\n",
    "\n",
    "print(np.sort(arr))"
   ]
  },
  {
   "cell_type": "markdown",
   "id": "6375c1cb",
   "metadata": {},
   "source": [
    "In this example we have created the array of integers and stored the values randomly, Now we are applying the `.sort()` function so that the array of elements will be sorted in ascending order."
   ]
  },
  {
   "cell_type": "code",
   "execution_count": 23,
   "id": "9c3f705a",
   "metadata": {},
   "outputs": [
    {
     "name": "stdout",
     "output_type": "stream",
     "text": [
      "['apple' 'banana' 'cherry']\n"
     ]
    }
   ],
   "source": [
    "# Example 2 - working\n",
    "\n",
    "arr = np.array(['banana', 'cherry', 'apple'])\n",
    "\n",
    "print(np.sort(arr))"
   ]
  },
  {
   "cell_type": "markdown",
   "id": "67373bed",
   "metadata": {},
   "source": [
    "In this example we are creating the array of string values , if we apply the function `np.sort()` the array order will be sorted alphabetically. "
   ]
  },
  {
   "cell_type": "code",
   "execution_count": 24,
   "id": "a52a3603",
   "metadata": {},
   "outputs": [
    {
     "name": "stdout",
     "output_type": "stream",
     "text": [
      "[[2 3 4]\n",
      " [0 1 5]]\n"
     ]
    }
   ],
   "source": [
    "# Example 3 - Working\n",
    "\n",
    "arr = np.array([[3, 2, 4], [5, 0, 1]])\n",
    "\n",
    "print(np.sort(arr))"
   ]
  },
  {
   "cell_type": "markdown",
   "id": "55ee14a0",
   "metadata": {},
   "source": [
    "In this example we are sorting the 2-dimensional array by using `np.sort()` function."
   ]
  },
  {
   "cell_type": "markdown",
   "id": "8e8016f6",
   "metadata": {},
   "source": [
    "## Function 3 - Numpy Array Splitting(array_split)\n",
    "\n",
    "Splitting Numpy Arrays:\n",
    " - Splitting is reverse operation of Joining.\n",
    " - Joining merges multiple arrays into one and Splitting breaks one array into multiple.\n",
    " - We use array_split() for splitting arrays, we pass it the array we want to split and the number of splits."
   ]
  },
  {
   "cell_type": "code",
   "execution_count": 25,
   "id": "da77878d",
   "metadata": {},
   "outputs": [
    {
     "name": "stdout",
     "output_type": "stream",
     "text": [
      "[array([1, 2, 3]), array([4, 5, 6])]\n"
     ]
    }
   ],
   "source": [
    "# Example 1 - working\n",
    "\n",
    "a = np.array([1,2,3,4,5,6])\n",
    "b = np.array_split(a, 2)\n",
    "print(b)"
   ]
  },
  {
   "cell_type": "markdown",
   "id": "fbb798d0",
   "metadata": {},
   "source": [
    "In the given example we have created 1-dimensional array and applying the `array_split()` function so that the array could be split and make it 2 dimensional array"
   ]
  },
  {
   "cell_type": "code",
   "execution_count": 26,
   "id": "d1d62fbe",
   "metadata": {},
   "outputs": [
    {
     "name": "stdout",
     "output_type": "stream",
     "text": [
      "[array([[1, 2, 3],\n",
      "       [4, 5, 6],\n",
      "       [7, 8, 9]]), array([[10, 11, 12],\n",
      "       [13, 14, 15],\n",
      "       [16, 17, 18]])]\n"
     ]
    }
   ],
   "source": [
    "# Example 2 - working\n",
    "\n",
    "c = np.array([[1,2,3], [4,5,6], [7,8,9], [10,11,12], [13,14,15], [16,17,18]])\n",
    "d = np.array_split(c, 2)\n",
    "print(d)"
   ]
  },
  {
   "cell_type": "markdown",
   "id": "c1f78bbe",
   "metadata": {},
   "source": [
    "In the given example of array we just applied `np.array_split` function and you can see the arrays are has been changed to 2-d array."
   ]
  },
  {
   "cell_type": "code",
   "execution_count": 27,
   "id": "b92b6693",
   "metadata": {},
   "outputs": [
    {
     "name": "stdout",
     "output_type": "stream",
     "text": [
      "[array([[ 1,  2],\n",
      "       [ 4,  5],\n",
      "       [ 7,  8],\n",
      "       [10, 11],\n",
      "       [13, 14],\n",
      "       [16, 17]]), array([[ 3],\n",
      "       [ 6],\n",
      "       [ 9],\n",
      "       [12],\n",
      "       [15],\n",
      "       [18]])]\n"
     ]
    }
   ],
   "source": [
    "# Example 3 - Working\n",
    "\n",
    "c = np.array([[1,2,3], [4,5,6], [7,8,9], [10,11,12], [13,14,15], [16,17,18]])\n",
    "d = np.array_split(c, 2, axis=1)\n",
    "print(d)"
   ]
  },
  {
   "cell_type": "markdown",
   "id": "106255ee",
   "metadata": {},
   "source": [
    "In the given example of array we just applied `np.array_split` function and you can see the arrays are has been changed to 2-d array, and we assigned axis=1 so that new columns in a array has been created."
   ]
  },
  {
   "cell_type": "markdown",
   "id": "02123e3c",
   "metadata": {},
   "source": [
    "## Function 4 - Numpy Array appending(np.append\n",
    "\n",
    "\n",
    "The numpy.append() appends values along the mentioned axis at the end of the array\n"
   ]
  },
  {
   "cell_type": "code",
   "execution_count": 28,
   "id": "770e3ca8",
   "metadata": {},
   "outputs": [
    {
     "name": "stdout",
     "output_type": "stream",
     "text": [
      "[[0 1 2 3]\n",
      " [4 5 6 7]] \n",
      "\n",
      "[[ 8  9 10 11]\n",
      " [12 13 14 15]] \n",
      "\n",
      "[[ 0  1  2  3]\n",
      " [ 4  5  6  7]\n",
      " [ 8  9 10 11]\n",
      " [12 13 14 15]]\n"
     ]
    }
   ],
   "source": [
    "# Example 1 - working\n",
    "\n",
    "arr1 = np.arange(8).reshape(2, 4)\n",
    "print(arr1,'\\n')\n",
    "arr2 = np.arange(8, 16).reshape(2, 4)\n",
    "print(arr2,'\\n')\n",
    "arr3 = np.append(arr1, arr2, axis=0)\n",
    "print(arr3)"
   ]
  },
  {
   "cell_type": "markdown",
   "id": "d22fc62a",
   "metadata": {},
   "source": [
    "In this given example we have created two 2-d arrays and applying the `np.append()` function so that the values in the arrays will be combined and appended in the single array."
   ]
  },
  {
   "cell_type": "code",
   "execution_count": 29,
   "id": "31bcd31e",
   "metadata": {},
   "outputs": [
    {
     "name": "stdout",
     "output_type": "stream",
     "text": [
      "[[0 1]\n",
      " [2 3]\n",
      " [4 5]\n",
      " [6 7]] \n",
      "\n",
      "[[ 8  9]\n",
      " [10 11]\n",
      " [12 13]\n",
      " [14 15]] \n",
      "\n",
      "[ 0  1  2  3  4  5  6  7  8  9 10 11 12 13 14 15]\n"
     ]
    }
   ],
   "source": [
    "# Example 2 - working\n",
    "\n",
    "arr4 = np.arange(8).reshape(4, 2)\n",
    "print(arr4,'\\n')\n",
    "arr5 = np.arange(8, 16).reshape(4, 2)\n",
    "print(arr5,'\\n')\n",
    "arr6 = np.append(arr4, arr5)\n",
    "print(arr6)"
   ]
  },
  {
   "cell_type": "markdown",
   "id": "9f2a1b26",
   "metadata": {},
   "source": [
    "In this given example we have created two of 2-d arrays and applying the `np.append()` function so that the values in the arrays will be combined and appended in the single array in 1-dimensional."
   ]
  },
  {
   "cell_type": "code",
   "execution_count": 30,
   "id": "9cbb6a08",
   "metadata": {},
   "outputs": [
    {
     "name": "stdout",
     "output_type": "stream",
     "text": [
      "[[0 1]\n",
      " [2 3]\n",
      " [4 5]\n",
      " [6 7]] \n",
      "\n",
      "[[ 8  9]\n",
      " [10 11]\n",
      " [12 13]\n",
      " [14 15]] \n",
      "\n"
     ]
    },
    {
     "ename": "TypeError",
     "evalue": "_append_dispatcher() takes from 2 to 3 positional arguments but 4 were given",
     "output_type": "error",
     "traceback": [
      "\u001b[0;31m---------------------------------------------------------------------------\u001b[0m",
      "\u001b[0;31mTypeError\u001b[0m                                 Traceback (most recent call last)",
      "\u001b[0;32m/tmp/ipykernel_38/1412330077.py\u001b[0m in \u001b[0;36m<module>\u001b[0;34m\u001b[0m\n\u001b[1;32m      5\u001b[0m \u001b[0marr5\u001b[0m \u001b[0;34m=\u001b[0m \u001b[0mnp\u001b[0m\u001b[0;34m.\u001b[0m\u001b[0marange\u001b[0m\u001b[0;34m(\u001b[0m\u001b[0;36m8\u001b[0m\u001b[0;34m,\u001b[0m \u001b[0;36m16\u001b[0m\u001b[0;34m)\u001b[0m\u001b[0;34m.\u001b[0m\u001b[0mreshape\u001b[0m\u001b[0;34m(\u001b[0m\u001b[0;36m4\u001b[0m\u001b[0;34m,\u001b[0m \u001b[0;36m2\u001b[0m\u001b[0;34m)\u001b[0m\u001b[0;34m\u001b[0m\u001b[0;34m\u001b[0m\u001b[0m\n\u001b[1;32m      6\u001b[0m \u001b[0mprint\u001b[0m\u001b[0;34m(\u001b[0m\u001b[0marr5\u001b[0m\u001b[0;34m,\u001b[0m\u001b[0;34m'\\n'\u001b[0m\u001b[0;34m)\u001b[0m\u001b[0;34m\u001b[0m\u001b[0;34m\u001b[0m\u001b[0m\n\u001b[0;32m----> 7\u001b[0;31m \u001b[0marr6\u001b[0m \u001b[0;34m=\u001b[0m \u001b[0mnp\u001b[0m\u001b[0;34m.\u001b[0m\u001b[0mappend\u001b[0m\u001b[0;34m(\u001b[0m\u001b[0marr4\u001b[0m\u001b[0;34m,\u001b[0m \u001b[0marr5\u001b[0m\u001b[0;34m,\u001b[0m \u001b[0marr1\u001b[0m\u001b[0;34m,\u001b[0m \u001b[0marr2\u001b[0m\u001b[0;34m)\u001b[0m\u001b[0;34m\u001b[0m\u001b[0;34m\u001b[0m\u001b[0m\n\u001b[0m\u001b[1;32m      8\u001b[0m \u001b[0mprint\u001b[0m\u001b[0;34m(\u001b[0m\u001b[0marr6\u001b[0m\u001b[0;34m)\u001b[0m\u001b[0;34m\u001b[0m\u001b[0;34m\u001b[0m\u001b[0m\n",
      "\u001b[0;32m<__array_function__ internals>\u001b[0m in \u001b[0;36mappend\u001b[0;34m(*args, **kwargs)\u001b[0m\n",
      "\u001b[0;31mTypeError\u001b[0m: _append_dispatcher() takes from 2 to 3 positional arguments but 4 were given"
     ]
    }
   ],
   "source": [
    "# Example 3 - breaking\n",
    "\n",
    "arr4 = np.arange(8).reshape(4, 2)\n",
    "print(arr4,'\\n')\n",
    "arr5 = np.arange(8, 16).reshape(4, 2)\n",
    "print(arr5,'\\n')\n",
    "arr6 = np.append(arr4, arr5, arr1, arr2)\n",
    "print(arr6)"
   ]
  },
  {
   "cell_type": "markdown",
   "id": "83398ea6",
   "metadata": {},
   "source": [
    "In this given example we have created two arrays and applying the `np.append()` function so that the values in the arrays will be combined and appended the single array and as you can see that it is throwing an error because append function allows you to pass two arguments but given 4, if you you give two arguments the append function will work."
   ]
  },
  {
   "cell_type": "markdown",
   "id": "07e485c6",
   "metadata": {},
   "source": [
    "## Function 5 - Numpy Products(prod())\n",
    "\n",
    "To find the product of the elements in an array, use the prod() function."
   ]
  },
  {
   "cell_type": "code",
   "execution_count": 31,
   "id": "e30de761",
   "metadata": {},
   "outputs": [
    {
     "name": "stdout",
     "output_type": "stream",
     "text": [
      "24\n"
     ]
    }
   ],
   "source": [
    "# Example 1 - working\n",
    "\n",
    "arr = np.array([1, 2, 3, 4])\n",
    "\n",
    "x = np.prod(arr)\n",
    "\n",
    "print(x)"
   ]
  },
  {
   "cell_type": "markdown",
   "id": "ec5470c5",
   "metadata": {},
   "source": [
    "Returns: 24 because 1*2*3*4 = 24"
   ]
  },
  {
   "cell_type": "code",
   "execution_count": 32,
   "id": "1c7530fa",
   "metadata": {},
   "outputs": [
    {
     "name": "stdout",
     "output_type": "stream",
     "text": [
      "40320\n"
     ]
    }
   ],
   "source": [
    "# Example 2 - working\n",
    "\n",
    "arr1 = np.array([1, 2, 3, 4])\n",
    "arr2 = np.array([5, 6, 7, 8])\n",
    "\n",
    "x = np.prod([arr1, arr2])\n",
    "\n",
    "print(x)"
   ]
  },
  {
   "cell_type": "markdown",
   "id": "32e4e425",
   "metadata": {},
   "source": [
    "Returns: 40320 because 1*2*3*4*5*6*7*8 = 40320"
   ]
  },
  {
   "cell_type": "code",
   "execution_count": 33,
   "id": "a4e2c8ab",
   "metadata": {},
   "outputs": [
    {
     "name": "stdout",
     "output_type": "stream",
     "text": [
      "[  24 1680]\n"
     ]
    }
   ],
   "source": [
    "# Example 3 - Working\n",
    "\n",
    "arr1 = np.array([1, 2, 3, 4])\n",
    "arr2 = np.array([5, 6, 7, 8])\n",
    "\n",
    "newarr = np.prod([arr1, arr2], axis=1)\n",
    "\n",
    "print(newarr)"
   ]
  },
  {
   "cell_type": "markdown",
   "id": "bc394b9b",
   "metadata": {},
   "source": [
    "If you specify axis=1, NumPy will return the product of each array.\n",
    "\n",
    "Returns: [24 1680]"
   ]
  },
  {
   "cell_type": "markdown",
   "id": "98137c3e",
   "metadata": {},
   "source": [
    "## Conclusion\n",
    "\n",
    "In this Notebook we have covered few Numpy functions, we have covered about some numpy creation and manipulation for each function there are some examples given.Hence we covered \n",
    " - Numpy Array Reshaping\n",
    " - Numpy Array Sorting\n",
    " - Numpy Array Splitting\n",
    " - Numpy Array appending\n",
    " - Numpy Products."
   ]
  },
  {
   "cell_type": "markdown",
   "id": "3d5c06d8",
   "metadata": {},
   "source": [
    "## Reference Links\n",
    "\n",
    "* Numpy official tutorial : https://numpy.org/doc/stable/user/quickstart.html\n",
    "* Numpy W3-Schools tutorial : https://docs.scipy.org/doc/numpy-dev/"
   ]
  }
 ],
 "metadata": {
  "kernelspec": {
   "display_name": "Python 3 (ipykernel)",
   "language": "python",
   "name": "python3"
  },
  "language_info": {
   "codemirror_mode": {
    "name": "ipython",
    "version": 3
   },
   "file_extension": ".py",
   "mimetype": "text/x-python",
   "name": "python",
   "nbconvert_exporter": "python",
   "pygments_lexer": "ipython3",
   "version": "3.9.6"
  }
 },
 "nbformat": 4,
 "nbformat_minor": 5
}
